{
 "metadata": {
  "language_info": {
   "codemirror_mode": {
    "name": "ipython",
    "version": 3
   },
   "file_extension": ".py",
   "mimetype": "text/x-python",
   "name": "python",
   "nbconvert_exporter": "python",
   "pygments_lexer": "ipython3",
   "version": "3.8.5"
  },
  "orig_nbformat": 2,
  "kernelspec": {
   "name": "python385jvsc74a57bd057efaaeb45f4f90ea9f89e9dd4fdb4ef124149b30a988f220264a4172c961d6f",
   "display_name": "Python 3.8.5 64-bit ('base': conda)"
  }
 },
 "nbformat": 4,
 "nbformat_minor": 2,
 "cells": [
  {
   "cell_type": "code",
   "execution_count": 1,
   "metadata": {},
   "outputs": [
    {
     "output_type": "stream",
     "name": "stdout",
     "text": [
      "{98, 35, 15, 213, 54, 119}\n"
     ]
    }
   ],
   "source": [
    "#1\n",
    "        # Задание 1\n",
    "        # Дана переменная, в которой хранится словарь, содержащий гео-метки для каждого пользователя\n",
    "        #  (пример структуры данных приведен ниже). Вам необходимо написать программу, которая выведет на\n",
    "        #   экран множество уникальных гео-меток всех пользователей.\n",
    "\n",
    "        # Пример работы программы:\n",
    "\n",
    "        # ids = {'user1': [213, 213, 213, 15, 213],\n",
    "        # 'user2': [54, 54, 119, 119, 119],\n",
    "        # 'user3': [213, 98, 98, 35]}\n",
    "        # Результат: {98, 35, 15, 213, 54, 119}`\n",
    "\n",
    "ids = {'user1': [213, 213, 213, 15, 213],\n",
    "'user2': [54, 54, 119, 119, 119],\n",
    "'user3': [213, 98, 98, 35]}\n",
    "\n",
    "x = set()\n",
    "\n",
    "for coor in ids.values():\n",
    "        x.update(coor)\n",
    "\n",
    "print(x)"
   ]
  },
  {
   "cell_type": "code",
   "execution_count": 2,
   "metadata": {},
   "outputs": [
    {
     "output_type": "stream",
     "name": "stdout",
     "text": [
      "Поисковых запросов, содержащих 3 слов(а): 57.14%\nПоисковых запросов, содержащих 2 слов(а): 42.86%\n"
     ]
    }
   ],
   "source": [
    "queries = [\n",
    "'смотреть сериалы онлайн',\n",
    "'новости спорта',\n",
    "'афиша кино',\n",
    "'курс доллара',\n",
    "'сериалы этим летом',\n",
    "'курс по питону',\n",
    "'сериалы про спорт',\n",
    "]\n",
    "# Предыдущий вариант решения\n",
    "# y,x = 0,0\n",
    "\n",
    "# queries_list = []\n",
    "# for data in queries:\n",
    "#     # print(len(data.split(' ')))\n",
    "#     if len(data.split(' ')) == 2:\n",
    "#         x+=1\n",
    "#     else:\n",
    "#         y+=1\n",
    "# # print('x = ', x)\n",
    "# # print('y = ', y)\n",
    "# print('Поисковых запросов, содержащих 2 слов(а): {:.02%}'.format(x/len(queries)))\n",
    "# print('Поисковых запросов, содержащих 3 слов(а): {:.02%}'.format(y/len(queries)))\n",
    "\n",
    "\n",
    "\n",
    "q_ = {}\n",
    " \n",
    "for el in queries:\n",
    "  a = len(el.split(' '))\n",
    "  if a in q_:\n",
    "    q_[a] += 1\n",
    "  else:\n",
    "    q_[a] = 1\n",
    " \n",
    "for i in q_.items():\n",
    "  print(f'Поисковых запросов, содержащих {i[0]} слов(а): {i[1]/sum(q_.values()):.02%}')\n"
   ]
  },
  {
   "cell_type": "code",
   "execution_count": null,
   "metadata": {},
   "outputs": [],
   "source": [
    "# import collections\n",
    "import json\n",
    "\n",
    "results = {\n",
    "'vk': {'revenue': 103, 'cost': 98},\n",
    "'yandex': {'revenue': 179, 'cost': 153},\n",
    "'facebook': {'revenue': 103, 'cost': 110},\n",
    "'adwords': {'revenue': 35, 'cost': 34},\n",
    "'twitter': {'revenue': 11, 'cost': 24},\n",
    "}\n",
    "\n",
    "for company,info in results.items():\n",
    "    info['ROI'] = round(((info['revenue']/info['cost'] - 1) * 100),2)\n",
    "# results\n",
    "results_sorted = collections.OrderedDict(sorted(results.items()))\n",
    "print(json.dumps(results, indent=4, sort_keys=True))\n",
    "# results.items()\n",
    "# type(results_sorted['vk']['ROI'])\n",
    "# (revenue / cost - 1) * 100\n"
   ]
  },
  {
   "source": [
    "Задание 4\n",
    "Дана переменная, в которой хранится статистика рекламных каналов по объемам продаж (пример структуры данных приведен ниже). Напишите программу, которая возвращает название канала с максимальным объемом продаж.\n",
    "\n",
    "Пример работы программы:\n",
    "\n",
    "stats = {'facebook': 55, 'yandex': 115, 'vk': 120, 'google': 99, 'email': 42, 'ok': 98}\n",
    "\n",
    "Результат: Максимальный объем продаж на рекламном канале: vk"
   ],
   "cell_type": "code",
   "metadata": {},
   "execution_count": null,
   "outputs": []
  },
  {
   "cell_type": "code",
   "execution_count": 3,
   "metadata": {},
   "outputs": [
    {
     "output_type": "execute_result",
     "data": {
      "text/plain": [
       "'vk'"
      ]
     },
     "metadata": {},
     "execution_count": 3
    }
   ],
   "source": [
    "stats = {'facebook': 55, 'yandex': 115, 'vk': 120, 'google': 99, 'email': 42, 'ok': 98}\n",
    "# Прошлое решение\n",
    "# x = 0\n",
    "# for key, value in stats.items():\n",
    "#        if value > x:\n",
    "#            x = value\n",
    "#            y = key\n",
    "       \n",
    "# print('Результат: Максимальный объем продаж на рекламном канале: ',y)\n",
    "\n",
    "v=list(stats.values())\n",
    "k=list(stats.keys())\n",
    "k[v.index(max(v))]\n"
   ]
  },
  {
   "cell_type": "code",
   "execution_count": null,
   "metadata": {},
   "outputs": [],
   "source": [
    "Задание 5 (необязательно)\n",
    "Дан список произвольной длины. Необходимо написать код, который на основе исходного списка составит словарь такого уровня вложенности, какова длина исхондого списка.\n",
    "\n",
    "Примеры работы программы:\n",
    "\n",
    "my_list = ['2018-01-01', 'yandex', 'cpc', 100]\n",
    "Результат: {'2018-01-01': {'yandex': {'cpc': 100}}}\n",
    "\n",
    "my_list = ['a', 'b', 'c', 'd', 'e', 'f']\n",
    "Результат: {'a': {'b': {'c': {'d': {'e': 'f'}}}}}"
   ]
  },
  {
   "cell_type": "code",
   "execution_count": null,
   "metadata": {
    "tags": []
   },
   "outputs": [],
   "source": [
    "\n",
    "my_list = ['2018-01-01', 'yandex', 'cpc', 100]\n",
    "# my_list = ['a', 'b', 'c', 'd', 'e', 'f']\n",
    "\n",
    "my_dict = {my_list[-2]:my_list[-1]}\n",
    "del(my_list[-1])\n",
    "del(my_list[-1])\n",
    "my_list.reverse()\n",
    "for el in my_list:\n",
    "    my_dict = {el:my_dict}\n",
    "    \n",
    "my_dict\n",
    "\n",
    "\n"
   ]
  },
  {
   "source": [
    "Задание 6 (необязательно)\n",
    "Дана книга рецептов с информацией о том, сколько ингредиентов нужно для приготовления блюда в расчете на одну порцию (пример данных представлен ниже).\n",
    "Напишите программу, которая будет запрашивать у пользователя количество порций для приготовления этих блюд и отображать информацию о суммарном количестве требуемых ингредиентов в указанном виде.\n",
    "\n",
    "Пример работы программы:\n",
    "\n",
    "cook_book = {\n",
    "'салат': [\n",
    "{'ingridient_name': 'сыр', 'quantity': 50, 'measure': 'гр'},\n",
    "{'ingridient_name': 'томаты', 'quantity': 2, 'measure': 'шт'},\n",
    "{'ingridient_name': 'огурцы', 'quantity': 20, 'measure': 'гр'},\n",
    "{'ingridient_name': 'маслины', 'quantity': 10, 'measure': 'гр'},\n",
    "{'ingridient_name': 'оливковое масло', 'quantity': 20, 'measure': 'мл'},\n",
    "{'ingridient_name': 'салат', 'quantity': 10, 'measure': 'гр'},\n",
    "{'ingridient_name': 'перец', 'quantity': 20, 'measure': 'гр'}\n",
    "],\n",
    "'пицца': [\n",
    "{'ingridient_name': 'сыр', 'quantity': 20, 'measure': 'гр'},\n",
    "{'ingridient_name': 'колбаса', 'quantity': 30, 'measure': 'гр'},\n",
    "{'ingridient_name': 'бекон', 'quantity': 30, 'measure': 'гр'},\n",
    "{'ingridient_name': 'оливки', 'quantity': 10, 'measure': 'гр'},\n",
    "{'ingridient_name': 'томаты', 'quantity': 20, 'measure': 'гр'},\n",
    "{'ingridient_name': 'тесто', 'quantity': 100, 'measure': 'гр'},\n",
    "],\n",
    "'лимонад': [\n",
    "{'ingridient_name': 'лимон', 'quantity': 1, 'measure': 'шт'},\n",
    "{'ingridient_name': 'вода', 'quantity': 200, 'measure': 'мл'},\n",
    "{'ingridient_name': 'сахар', 'quantity': 10, 'measure': 'гр'},\n",
    "{'ingridient_name': 'лайм', 'quantity': 20, 'measure': 'гр'},\n",
    "]\n",
    "}\n",
    "\n",
    "Введите количество порций:\n",
    "3\n",
    "Результат:\n",
    "\n",
    "Сыр: 210 гр\n",
    "Томаты: 6 шт\n",
    "Огурцы: 60 гр\n",
    "Маслины: 30 гр\n",
    "Оливковое Масло: 60 мл\n",
    "Салат: 30 гр\n",
    "Перец: 60 гр\n",
    "Колбаса: 90 гр\n",
    "Бекон: 90 гр\n",
    "Оливки: 30 гр\n",
    "Томаты: 60 гр\n",
    "Тесто: 300 гр\n",
    "Лимон: 3 шт\n",
    "Вода: 600 мл\n",
    "Сахар: 30 гр\n",
    "Лайм: 60 гр"
   ],
   "cell_type": "markdown",
   "metadata": {}
  },
  {
   "source": [
    "\n",
    "cook_book = {\n",
    "'салат': [\n",
    "{'ingridient_name': 'сыр', 'quantity': 50, 'measure': 'гр'},\n",
    "{'ingridient_name': 'томаты', 'quantity': 2, 'measure': 'шт'},\n",
    "{'ingridient_name': 'огурцы', 'quantity': 20, 'measure': 'гр'},\n",
    "{'ingridient_name': 'маслины', 'quantity': 10, 'measure': 'гр'},\n",
    "{'ingridient_name': 'оливковое масло', 'quantity': 20, 'measure': 'мл'},\n",
    "{'ingridient_name': 'салат', 'quantity': 10, 'measure': 'гр'},\n",
    "{'ingridient_name': 'перец', 'quantity': 20, 'measure': 'гр'}\n",
    "],\n",
    "'пицца': [\n",
    "{'ingridient_name': 'сыр', 'quantity': 20, 'measure': 'гр'},\n",
    "{'ingridient_name': 'колбаса', 'quantity': 30, 'measure': 'гр'},\n",
    "{'ingridient_name': 'бекон', 'quantity': 30, 'measure': 'гр'},\n",
    "{'ingridient_name': 'оливки', 'quantity': 10, 'measure': 'гр'},\n",
    "{'ingridient_name': 'томаты', 'quantity': 20, 'measure': 'гр'},\n",
    "{'ingridient_name': 'тесто', 'quantity': 100, 'measure': 'гр'},\n",
    "],\n",
    "'лимонад': [\n",
    "{'ingridient_name': 'лимон', 'quantity': 1, 'measure': 'шт'},\n",
    "{'ingridient_name': 'вода', 'quantity': 200, 'measure': 'мл'},\n",
    "{'ingridient_name': 'сахар', 'quantity': 10, 'measure': 'гр'},\n",
    "{'ingridient_name': 'лайм', 'quantity': 20, 'measure': 'гр'},\n",
    "]\n",
    "}\n",
    "\n",
    "\n",
    "person = 3\n",
    "shop_dict = {}\n",
    "for dish in cook_book.values():\n",
    "  for ingr in dish:\n",
    "    key = (ingr['ingridient_name'], ingr['measure'])\n",
    "    if key not in shop_dict:\n",
    "        shop_dict[key] = ingr['quantity'] * person\n",
    "    else:\n",
    "        shop_dict[key] += ingr['quantity'] * person\n",
    " \n",
    "for name, q in shop_dict.items():\n",
    "  print(f'{name[0]}: {q} {name[1]}')\n"
   ],
   "cell_type": "code",
   "metadata": {},
   "execution_count": 5,
   "outputs": [
    {
     "output_type": "stream",
     "name": "stdout",
     "text": [
      "сыр: 210 гр\nтоматы: 6 шт\nогурцы: 60 гр\nмаслины: 30 гр\nоливковое масло: 60 мл\nсалат: 30 гр\nперец: 60 гр\nколбаса: 90 гр\nбекон: 90 гр\nоливки: 30 гр\nтоматы: 60 гр\nтесто: 300 гр\nлимон: 3 шт\nвода: 600 мл\nсахар: 30 гр\nлайм: 60 гр\n"
     ]
    }
   ]
  }
 ]
}