{
 "metadata": {
  "language_info": {
   "codemirror_mode": {
    "name": "ipython",
    "version": 3
   },
   "file_extension": ".py",
   "mimetype": "text/x-python",
   "name": "python",
   "nbconvert_exporter": "python",
   "pygments_lexer": "ipython3",
   "version": "3.8.5"
  },
  "orig_nbformat": 2,
  "kernelspec": {
   "name": "python385jvsc74a57bd057efaaeb45f4f90ea9f89e9dd4fdb4ef124149b30a988f220264a4172c961d6f",
   "display_name": "Python 3.8.5 64-bit ('base': conda)"
  }
 },
 "nbformat": 4,
 "nbformat_minor": 2,
 "cells": [
  {
   "source": [
    "Задание 1\n",
    "Дана переменная, в которой хранится слово из латинских букв. Напишите код, который выводит на экран:\n",
    "\n",
    "среднюю букву, если число букв в слове нечетное;\n",
    "две средних буквы, если число букв четное.\n",
    "Примеры работы программы:\n",
    "\n",
    "word = ‘test’\n",
    "Результат:\n",
    "es\n",
    "\n",
    "word = ‘testing’\n",
    "Результат:\n",
    "t"
   ],
   "cell_type": "markdown",
   "metadata": {}
  },
  {
   "cell_type": "code",
   "execution_count": 2,
   "metadata": {},
   "outputs": [
    {
     "output_type": "stream",
     "name": "stdout",
     "text": [
      "es\nt\n"
     ]
    }
   ],
   "source": [
    "word = 'test'\n",
    "x = len(word)\n",
    "\n",
    "if x%2==0:\n",
    "    f=x/2-1\n",
    "    f=int(f)\n",
    "    l=x/2+1\n",
    "    l=int(l)\n",
    "    print(word[f:l:1])\n",
    "else:\n",
    "    f=(x-1)/2+1\n",
    "    f=int(f)\n",
    "    print(word[f::])\n",
    "\n",
    "\n",
    "word = 'testing'\n",
    "x = len(word)\n",
    "\n",
    "if x%2==0:\n",
    "    f=x/2-1\n",
    "    f=int(f)\n",
    "    l=x/2+1\n",
    "    l=int(l)\n",
    "    print(word[f:l:1])\n",
    "else:\n",
    "    f=(x-1)/2\n",
    "    f=int(f)\n",
    "    print(word[f])"
   ]
  },
  {
   "source": [
    "Задание 2\n",
    "Напишите программу, которая последовательно запрашивает у пользователя числа (по одному за раз) и после первого нуля выводит сумму всех ранее введенных чисел.\n",
    "\n",
    "Примеры работы программы:\n",
    "\n",
    "Введите число:\n",
    "1\n",
    "\n",
    "Введите число:\n",
    "4\n",
    "\n",
    "Введите число:\n",
    "6\n",
    "\n",
    "Введите число:\n",
    "0\n",
    "Результат:\n",
    "11\n",
    "\n",
    "Введите число:\n",
    "0\n",
    "Результат:\n",
    "0"
   ],
   "cell_type": "markdown",
   "metadata": {}
  },
  {
   "cell_type": "code",
   "execution_count": 5,
   "metadata": {},
   "outputs": [
    {
     "output_type": "stream",
     "name": "stdout",
     "text": [
      "11\n"
     ]
    }
   ],
   "source": [
    "x = int(input('Введите число: '))\n",
    "y=0\n",
    "while x!=0:\n",
    "    y+=x\n",
    "    x = int(input('Введите число: '))\n",
    "print(y)"
   ]
  },
  {
   "source": [
    "Задание 3\n",
    "Мы делаем MVP dating-сервиса, и у нас есть список парней и девушек.\n",
    "Выдвигаем гипотезу: лучшие рекомендации мы получим, если просто отсортируем имена по алфавиту и познакомим людей с одинаковыми индексами после сортировки! Но мы не будем никого знакомить, если кто-то может остаться без пары:\n",
    "\n",
    "Примеры работы программы:\n",
    "\n",
    "boys = [‘Peter’, ‘Alex’, ‘John’, ‘Arthur’, ‘Richard’]\n",
    "girls = [‘Kate’, ‘Liza’, ‘Kira’, ‘Emma’, ‘Trisha’]\n",
    "Результат:\n",
    "\n",
    "Идеальные пары:\n",
    "Alex и Emma\n",
    "Arthur и Kate\n",
    "John и Kira\n",
    "Peter и Liza\n",
    "Richard и Trisha\n",
    "boys = [‘Peter’, ‘Alex’, ‘John’, ‘Arthur’, ‘Richard’, ‘Michael’]\n",
    "girls = [‘Kate’, ‘Liza’, ‘Kira’, ‘Emma’, ‘Trisha’]\n",
    "Результат:\n",
    "Внимание, кто-то может остаться без пары!"
   ],
   "cell_type": "markdown",
   "metadata": {}
  },
  {
   "cell_type": "code",
   "execution_count": 6,
   "metadata": {},
   "outputs": [
    {
     "output_type": "stream",
     "name": "stdout",
     "text": [
      "Alex и Emma\nArthur и Kate\nJohn и Kira\nPeter и Liza\nRichard и Trisha\nВнимание, кто-то может остаться без пары\n"
     ]
    }
   ],
   "source": [
    "boys = ['Peter', 'Alex', 'John', 'Arthur', 'Richard']\n",
    "girls = ['Kate', 'Liza', 'Kira', 'Emma', 'Trisha']\n",
    "s_boys = sorted(boys)\n",
    "s_girls = sorted(girls)\n",
    "\n",
    "if len(s_girls)==len(s_boys):\n",
    "    x=0\n",
    "    while x < len(s_boys):\n",
    "        print(s_boys[x] +' и '+ s_girls[x])\n",
    "        x+=1\n",
    "else:\n",
    "    print ('Внимание, кто-то может остаться без пары')\n",
    "\n",
    "\n",
    "boys = ['Peter', 'Alex', 'John', 'Arthur', 'Richard', 'Michael']\n",
    "girls = ['Kate', 'Liza', 'Kira', 'Emma', 'Trisha']\n",
    "s_boys = sorted(boys)\n",
    "s_girls = sorted(girls)\n",
    "\n",
    "if len(s_girls)==len(s_boys):\n",
    "    x=0\n",
    "    while x < len(s_boys):\n",
    "        print(s_boys[x] +' и '+ s_girls[x])\n",
    "        x+=1\n",
    "else:\n",
    "    print ('Внимание, кто-то может остаться без пары')\n"
   ]
  },
  {
   "source": [
    "Задание 4\n",
    "У нас есть список, содержащий информацию о среднедневной температуре в Фаренгейтах за произвольный период по странам (структура данных в примере). Необходимо написать код, который рассчитает среднюю температуру за период в Цельсиях(!) для каждой страны.\n",
    "\n",
    "Пример работы программы:\n",
    "\n",
    "countries_temperature = [\n",
    "[‘Thailand’, [75.2, 77, 78.8, 73.4, 68, 75.2, 77]],\n",
    "[‘Germany’, [57.2, 55.4, 59, 59, 53.6]],\n",
    "[‘Russia’, [35.6, 37.4, 39.2, 41, 42.8, 39.2, 35.6]],\n",
    "[‘Poland’, [50, 50, 53.6, 57.2, 55.4, 55.4]]\n",
    "]\n",
    "Результат:\n",
    "\n",
    "Средняя температура в странах:\n",
    "Thailand - 23.9 С\n",
    "Germany - 13.8 С\n",
    "Russia - 3.7 С\n",
    "Poland - 12.0 С"
   ],
   "cell_type": "markdown",
   "metadata": {}
  },
  {
   "cell_type": "code",
   "execution_count": 7,
   "metadata": {},
   "outputs": [
    {
     "output_type": "stream",
     "name": "stdout",
     "text": [
      "Thailand - 67.78 C\nGermany - 41.78 C\nRussia - 21.78 C\nPoland - 43.78 C\n"
     ]
    }
   ],
   "source": [
    "countries_temperature = [\n",
    "['Thailand', [75.2, 77, 78.8, 73.4, 68, 75.2, 77]],\n",
    "['Germany', [57.2, 55.4, 59, 59, 53.6]],\n",
    "['Russia', [35.6, 37.4, 39.2, 41, 42.8, 39.2, 35.6]],\n",
    "['Poland', [50, 50, 53.6, 57.2, 55.4, 55.4]]\n",
    "]\n",
    "\n",
    "x=0\n",
    "nnn=0\n",
    "while x<len(countries_temperature):\n",
    "    c,n=countries_temperature[x]\n",
    "    \n",
    "    for nn in n:\n",
    "        nn+=nn\n",
    "    print(c+' - '+str(format((nn-32)*5/9, '.2f')) +' C')\n",
    "    x+=1"
   ]
  },
  {
   "source": [
    "Задание 5 (необязательное)\n",
    "Дан поток логов по количеству просмотренных страниц для каждого пользователя. Вам необходимо написать алгоритм, который считает среднее значение просмотров на пользователя. Т. е. надо посчитать отношение суммы всех просмотров к количеству уникальных пользователей.\n",
    "\n",
    "Примеры работы программы:\n",
    "\n",
    "stream = [\n",
    "‘2018-01-01,user1,3’,\n",
    "‘2018-01-07,user1,4’,\n",
    "‘2018-03-29,user1,1’,\n",
    "‘2018-04-04,user1,13’,\n",
    "‘2018-01-05,user2,7’,\n",
    "‘2018-06-14,user3,4’,\n",
    "‘2018-07-02,user3,10’,\n",
    "‘2018-03-21,user4,19’,\n",
    "‘2018-03-22,user4,4’,\n",
    "‘2018-04-22,user4,8’,\n",
    "‘2018-05-03,user4,9’,\n",
    "‘2018-05-11,user4,11’,\n",
    "]\n",
    "Результат:\n",
    "Среднее количество просмотров на уникального пользователя: 23.25\n",
    "\n",
    "stream = [\n",
    "‘2018-01-01,user100,150’,\n",
    "‘2018-01-07,user99,205’,\n",
    "‘2018-03-29,user1001,81’\n",
    "]\n",
    "Результат:\n",
    "Среднее количество просмотров на уникального пользователя: 145.33"
   ],
   "cell_type": "markdown",
   "metadata": {}
  },
  {
   "cell_type": "code",
   "execution_count": 8,
   "metadata": {},
   "outputs": [
    {
     "output_type": "stream",
     "name": "stdout",
     "text": [
      "Среднее количество просмотров на уникального пользователя:  23.25\nСреднее количество просмотров на уникального пользователя:  145.33\n"
     ]
    }
   ],
   "source": [
    "stream = [\n",
    "'2018-01-01,user1,3',\n",
    "'2018-01-07,user1,4',\n",
    "'2018-03-29,user1,1',\n",
    "'2018-04-04,user1,13',\n",
    "'2018-01-05,user2,7',\n",
    "'2018-06-14,user3,4',\n",
    "'2018-07-02,user3,10',\n",
    "'2018-03-21,user4,19',\n",
    "'2018-03-22,user4,4',\n",
    "'2018-04-22,user4,8',\n",
    "'2018-05-03,user4,9',\n",
    "'2018-05-11,user4,11',\n",
    "]\n",
    "\n",
    "stream_new = []\n",
    "for r in stream:\n",
    "    stream_new.append(r.split(sep=','))\n",
    "\n",
    "name_set=set()\n",
    "for r1,r2,r3 in stream_new:\n",
    "    name_set.add(r2)\n",
    "print('Среднее количество просмотров на уникального пользователя: ',sum(int(el[2]) for el in stream_new)/len(name_set))\n",
    "\n",
    "\n",
    "\n",
    "stream = [\n",
    "'2018-01-01,user100,150',\n",
    "'2018-01-07,user99,205',\n",
    "'2018-03-29,user1001,81'\n",
    "]\n",
    "\n",
    "stream_new = []\n",
    "for r in stream:\n",
    "    stream_new.append(r.split(sep=','))\n",
    "\n",
    "name_set=set()\n",
    "for r1,r2,r3 in stream_new:\n",
    "    name_set.add(r2)\n",
    "print('Среднее количество просмотров на уникального пользователя: ',format(sum(int(el[2]) for el in stream_new)/len(name_set), '.2f'))\n"
   ]
  },
  {
   "source": [
    "Задание 6 (необязательное)\n",
    "Необходимо у пользователя запрашивать набор чисел разделенных пробелом. В результате должны выводиться числа, которые повторяются в вводе более одного раза.\n",
    "\n",
    "Примеры работы программы:\n",
    "\n",
    "Введите числа:\n",
    "4 8 0 3 4 2 0 3\n",
    "Результат:\n",
    "0 3 4\n",
    "\n",
    "Введите числа:\n",
    "1 1 2 2 3 3\n",
    "Результат:\n",
    "1 2 3\n",
    "\n",
    "Введите числа:\n",
    "1 1 1 1 1 2 2 2\n",
    "Результат:\n",
    "1 2"
   ],
   "cell_type": "markdown",
   "metadata": {}
  },
  {
   "cell_type": "code",
   "execution_count": 9,
   "metadata": {},
   "outputs": [
    {
     "output_type": "stream",
     "name": "stdout",
     "text": [
      "0  3  4  "
     ]
    }
   ],
   "source": [
    "x ='4 8 0 3 4 2 0 3'\n",
    "x_list = x.split(' ')\n",
    "\n",
    "el=0\n",
    "while el<(len(x_list)):\n",
    "    try:\n",
    "        x_list[el] = int(x_list[el])\n",
    "    except ValueError:\n",
    "        pass\n",
    "    el+=1\n",
    "# print(x_list)\n",
    "\n",
    "x_list_set=set(x_list)\n",
    "x_=list(x_list_set)\n",
    "# print(x_)\n",
    "\n",
    "res=[]\n",
    "for num in x_ :\n",
    "    if x_list.count(num)>=2:\n",
    "        res.append(num)\n",
    "# print(','.join(res)) \n",
    "\n",
    "for i in res:\n",
    "    print(i,' ',end='')"
   ]
  }
 ]
}