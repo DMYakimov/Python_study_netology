{
 "cells": [
  {
   "cell_type": "markdown",
   "metadata": {},
   "source": [
    "Задание 1\n",
    "Даны 2 переменных, в которых хранятся строки произвольной длины: phrase_1 и phrase_1.\n",
    "Напишите код, который проверяет какая из этих строк длиннее.\n",
    "\n",
    "Примеры работы программы:\n",
    "\n",
    "phrase_1 = 'Насколько проще было бы писать программы, если бы не заказчики’\n",
    "phrase_2 = '640Кб должно хватить для любых задач. Билл Гейтс (по легенде)'\n",
    "Результат:\n",
    "Фраза 1 длиннее фразы 2\n",
    "\n",
    "phrase_1 = '640Кб должно хватить для любых задач. Билл Гейтс (по легенде)'\n",
    "phrase_2 = 'Насколько проще было бы писать программы, если бы не заказчики’\n",
    "Результат:\n",
    "Фраза 2 длиннее фразы 1\n",
    "\n",
    "phrase_1 = 'Насколько проще было бы писать программы, если бы не заказчики’\n",
    "phrase_2 = 'Насколько проще было бы писать программы, если бы не заказчики’\n",
    "Результат:\n",
    "Фразы равной длины"
   ]
  },
  {
   "cell_type": "code",
   "execution_count": 9,
   "metadata": {},
   "outputs": [
    {
     "name": "stdout",
     "output_type": "stream",
     "text": [
      "Фраза 1 длинее фразы 2\n",
      "Фраза 2 длинее фразы 1\n",
      "Фразы равной длины\n"
     ]
    }
   ],
   "source": [
    "phrase_1 = 'Насколько проще было бы писать программы, если бы не заказчики'\n",
    "phrase_2 = '640Кб должно хватить для любых задач. Билл Гейтс (по легенде)'\n",
    "\n",
    "if len(phrase_1)>len(phrase_2):\n",
    "    print('Фраза 1 длинее фразы 2')\n",
    "elif len(phrase_1)<len(phrase_2):\n",
    "    print('Фраза 2 длинее фразы 1')\n",
    "else:\n",
    "    print('Фразы равной длины')\n",
    "\n",
    "phrase_1 = '640Кб должно хватить для любых задач. Билл Гейтс (по легенде)'\n",
    "phrase_2 = 'Насколько проще было бы писать программы, если бы не заказчики'\n",
    "if len(phrase_1)>len(phrase_2):\n",
    "    print('Фраза 1 длинее фразы 2')\n",
    "elif len(phrase_1)<len(phrase_2):\n",
    "    print('Фраза 2 длинее фразы 1')\n",
    "else:\n",
    "    print('Фразы равной длины')\n",
    "\n",
    "phrase_1 = 'Насколько проще было бы писать программы, если бы не заказчики'\n",
    "phrase_2 = 'Насколько проще было бы писать программы, если бы не заказчики'\n",
    "if len(phrase_1)>len(phrase_2):\n",
    "    print('Фраза 1 длинее фразы 2')\n",
    "elif len(phrase_1)<len(phrase_2):\n",
    "    print('Фраза 2 длинее фразы 1')\n",
    "else:\n",
    "    print('Фразы равной длины')"
   ]
  },
  {
   "cell_type": "markdown",
   "metadata": {},
   "source": [
    "Задание 2\n",
    "Дана переменная, в которой хранится четырехзначное число (год). Необходимо написать программу, которая выведет, является ли данный год високосным или обычным.\n",
    "\n",
    "Пример работы программы:\n",
    "\n",
    "year = 2020\n",
    "Результат:\n",
    "Високосный год\n",
    "\n",
    "year = 2019\n",
    "Результат:\n",
    "Обычный год"
   ]
  },
  {
   "cell_type": "code",
   "execution_count": 10,
   "metadata": {},
   "outputs": [
    {
     "name": "stdout",
     "output_type": "stream",
     "text": [
      "Високосный год\n",
      "Обычный год\n"
     ]
    }
   ],
   "source": [
    "year = 2020\n",
    "if year%4==0:\n",
    "    print('Високосный год')\n",
    "else:\n",
    "    print('Обычный год')\n",
    "\n",
    "year = 2019\n",
    "if year%4==0:\n",
    "    print('Високосный год')\n",
    "else:\n",
    "    print('Обычный год')"
   ]
  },
  {
   "cell_type": "markdown",
   "metadata": {},
   "source": [
    "Задание 3\n",
    "Необходимо написать программу, которая будет запрашивать у пользователя месяц и дату рождения и выводить соответствующий знак зодиака.\n",
    "\n",
    "Пример работы программы:\n",
    "\n",
    "Введите день:\n",
    "30\n",
    "\n",
    "Введите месяц:\n",
    "Август\n",
    "Результат:\n",
    "Ваш знак зодиака: Дева\n",
    "\n",
    "Введите день:\n",
    "29\n",
    "\n",
    "Введите месяц:\n",
    "Октябрь\n",
    "Результат:\n",
    "Ваш знак зодиака: Скорпион"
   ]
  },
  {
   "cell_type": "code",
   "execution_count": 47,
   "metadata": {},
   "outputs": [
    {
     "name": "stdout",
     "output_type": "stream",
     "text": [
      "Введите день:19\n",
      "Введите месяц:Февраль\n",
      "Ваш знак зодиака: Рыбы\n"
     ]
    }
   ],
   "source": [
    "date = int(input(\"Введите день:\"))\n",
    "to_month = input(\"Введите месяц:\")\n",
    "month = 0\n",
    "\n",
    "if to_month.lower()=='январь':\n",
    "    month=1\n",
    "elif to_month.lower()=='февраль':\n",
    "    month=2\n",
    "elif to_month.lower()=='март':\n",
    "    month=3\n",
    "elif to_month.lower()=='апрель':\n",
    "    month=4\n",
    "elif to_month.lower()=='май':\n",
    "    month=5\n",
    "elif to_month.lower()=='июнь':\n",
    "    month=6\n",
    "elif to_month.lower()=='июль':\n",
    "    month=7\n",
    "elif to_month.lower()=='август':\n",
    "    month=8\n",
    "elif to_month.lower()=='сентябрь':\n",
    "    month=9\n",
    "elif to_month.lower()=='октябрь':\n",
    "    month=10\n",
    "elif to_month.lower()=='ноябрь':\n",
    "    month=11\n",
    "elif to_month.lower()=='декабрь':\n",
    "    month=12\n",
    "\n",
    "\n",
    "if (date>=21 and date<=31 and month==1) or( month==2 and date>=1 and date<=18):\n",
    "    print(\"Ваш знак зодиака: Водолей\")\n",
    "elif (date>=19 and date<=29 and month==2) or (month==3 and date>=1 and date<=20):\n",
    "    print(\"Ваш знак зодиака: Рыбы\") \n",
    "elif (date>=21 and date<=31 and month==3) or( month==4 and date>=1 and date<=19):\n",
    "    print(\"Ваш знак зодиака: Овен\")\n",
    "elif (date>=20 and date<=30 and month==4) or( month==5 and date>=1 and date<=20):\n",
    "    print(\"Ваш знак зодиака: Телец\")\n",
    "elif (date>=21 and date<=31 and month==5) or( month==6 and date>=1 and date<=21):\n",
    "    print(\"Ваш знак зодиака: Близнецы\")\n",
    "elif (date>=22 and date<=30 and month==6) or( month==7 and date>=1 and date<=22):\n",
    "    print(\"Ваш знак зодиака: Рак\")\n",
    "elif (date>=23 and date<=31 and month==7) or( month==8 and date>=1 and date<=22):\n",
    "    print(\"Ваш знак зодиака: Лев\")\n",
    "elif (date>=23 and date<=31 and month==8) or( month==9 and date>=1 and date<=22):\n",
    "    print(\"Ваш знак зодиака: Дева\")\n",
    "elif (date>=23 and date<=30 and month==9) or( month==10 and date>=1 and date<=23):\n",
    "    print(\"Ваш знак зодиака: Весы\")\n",
    "elif (date>=24 and date<=31 and month==10) or( month==11 and date>=1 and date<=22):\n",
    "    print(\"Ваш знак зодиака: Скорпион\")\n",
    "elif (date>=23 and date<=30 and month==11) or( month==12 and date>=1 and date<=21):\n",
    "    print(\"Ваш знак зодиака: Стрелец\")\n",
    "elif (date>=22 and date<=31 and month==12) or( month==1 and date>=1 and date<=20):\n",
    "    print(\"Ваш знак зодиака: Козерог\")\n"
   ]
  },
  {
   "cell_type": "markdown",
   "metadata": {},
   "source": [
    "Задание 4\n",
    "Вам нужно написать программу для подбора упаковок по размерам товара. Размеры (ширина, длина, высота) хранятся в переменных (в сантиметрах):\n",
    "\n",
    "Используйте следующие правила:\n",
    "\n",
    "если каждое из трех измерений менее 15 сантиметров, то выведите на экран \"Коробка №1\";\n",
    "если хотя бы одно из измерений больше 15 сантиметров, но менее 50 сантиметров, то выводите \"Коробка №2\";\n",
    "если длина товара больше 2 метров, то выводите \"Упаковка для лыж\";\n",
    "во всех остальных случаях выводите \"Стандартная коробка №3\".\n",
    "Пример работы программы:\n",
    "\n",
    "width = 15\n",
    "length = 50\n",
    "height = 15\n",
    "Результат:\n",
    "Стандартная коробка №3\n",
    "\n",
    "width = 45\n",
    "length = 205\n",
    "height = 45\n",
    "Результат:\n",
    "Ищите упаковку для лыж"
   ]
  },
  {
   "cell_type": "code",
   "execution_count": 55,
   "metadata": {},
   "outputs": [
    {
     "name": "stdout",
     "output_type": "stream",
     "text": [
      "Коробка №1\n",
      "Упаковка для лыж\n"
     ]
    }
   ],
   "source": [
    "width = 15\n",
    "length = 50\n",
    "height = 15\n",
    "\n",
    "if width and length and height <= 15:\n",
    "    print('Коробка №1') \n",
    "elif (width > 15 and width<50 and (length and height <= 15)) or (length > 15 and length<50 and (width and height <= 15)) or (height > 15 and height<50 and (width and length <= 15)):\n",
    "    print('Коробка №2')\n",
    "elif length > 200:\n",
    "    print('Упаковка для лыж')\n",
    "else:\n",
    "    print('Стандартная коробка №3')\n",
    "\n",
    "\n",
    "\n",
    "width = 45\n",
    "length = 205\n",
    "height = 45\n",
    "\n",
    "if width and length and height <= 15:\n",
    "    print('Коробка №1') \n",
    "elif (width > 15 and width<50 and (length and height <= 15)) or (length > 15 and length<50 and (width and height <= 15)) or (height > 15 and height<50 and (width and length <= 15)):\n",
    "    print('Коробка №2')\n",
    "elif length > 200:\n",
    "    print('Упаковка для лыж')\n",
    "else:\n",
    "    print('Стандартная коробка №3')"
   ]
  },
  {
   "cell_type": "markdown",
   "metadata": {},
   "source": [
    "Задание 5 (необязательное)\n",
    "Дана переменная, в которой хранится шестизначное число (номер проездного билета). Напишите программу, которая будет определять, является ли данный билет \"счастливым\". Билет считается счастливым, если сумма первых трех цифр совпадает с суммой последних трех цифр номера.\n",
    "\n",
    "Примеры работы программы:\n",
    "\n",
    "number = 123456\n",
    "Результат:\n",
    "Несчастливый билет\n",
    "\n",
    "number = 123321\n",
    "Результат:\n",
    "Счастливый билет"
   ]
  },
  {
   "cell_type": "code",
   "execution_count": 75,
   "metadata": {},
   "outputs": [
    {
     "name": "stdout",
     "output_type": "stream",
     "text": [
      "Несчастливый билет\n",
      "Счастливый билет\n"
     ]
    }
   ],
   "source": [
    "number = 123456\n",
    "if int(str(number)[0])+int(str(number)[1])+int(str(number)[2])==int(str(number)[-1])+int(str(number)[-2])+int(str(number)[-3]):\n",
    "    print('Счастливый билет')\n",
    "else:\n",
    "    print('Несчастливый билет')\n",
    "\n",
    "number = 123321\n",
    "if int(str(number)[0])+int(str(number)[1])+int(str(number)[2])==int(str(number)[-1])+int(str(number)[-2])+int(str(number)[-3]):\n",
    "    print('Счастливый билет')\n",
    "else:\n",
    "    print('Несчастливый билет')"
   ]
  },
  {
   "cell_type": "markdown",
   "metadata": {},
   "source": [
    "Задание 6 (необязательное)\n",
    "Напишите программу, которая сможет вычислять площади трех фигур (круг, треугольник и прямоугольник). Тип фигуры запрашиваем через пользовательский ввод, после чего делаем запрос характеристик фигуры:\n",
    "\n",
    "если пользователь выбрал круг, запрашиваем его радиус,\n",
    "если треугольник – длины трех его сторон;\n",
    "если прямоугольник – длины двух его сторон.\n",
    "Пример работы программы:\n",
    "\n",
    "Введите тип фигуры:\n",
    "Круг\n",
    "\n",
    "Введите радиус круга:\n",
    "10\n",
    "Результат:\n",
    "Площадь круга: 314.16\n",
    "\n",
    "Введите тип фигуры:\n",
    "Треугольник\n",
    "\n",
    "Введите длину стороны A:\n",
    "2\n",
    "\n",
    "Введите длину стороны B:\n",
    "2\n",
    "\n",
    "Введите длину стороны C:\n",
    "3\n",
    "Результат:\n",
    "Площадь треугольника: 1.98"
   ]
  },
  {
   "cell_type": "code",
   "execution_count": 87,
   "metadata": {},
   "outputs": [
    {
     "name": "stdout",
     "output_type": "stream",
     "text": [
      "Введите тип фигуры:прямоугольник\n",
      "Введите длину стороны AB:5\n",
      "Введите длину стороны BC:2\n",
      "Площадь прямоугольника:  10\n"
     ]
    }
   ],
   "source": [
    "import math\n",
    "\n",
    "form = input(\"Введите тип фигуры:\")\n",
    "if form.lower()==\"круг\":\n",
    "    r = int(input(\"Введите радиус круга:\"))\n",
    "    print('Площадь круга: ',(r**2 * 3.14159))\n",
    "elif form.lower()==\"треугольник\":\n",
    "    a = int(input(\"Введите длину стороны A:\"))\n",
    "    b = int(input(\"Введите длину стороны B:\"))\n",
    "    c = int(input(\"Введите длину стороны C:\"))\n",
    "    p=(a+b+c)/2\n",
    "    s=math.sqrt(p*(p - a)*(p - b)*(p - c))\n",
    "    print('Площадь треугольника: ',s)\n",
    "elif form.lower()==\"прямоугольник\":\n",
    "    ab = int(input(\"Введите длину стороны AB:\"))\n",
    "    bc = int(input(\"Введите длину стороны BC:\"))\n",
    "    s=ab*bc\n",
    "    print('Площадь прямоугольника: ', s)\n",
    "    "
   ]
  }
 ],
 "metadata": {
  "kernelspec": {
   "display_name": "Python 3",
   "language": "python",
   "name": "python3"
  },
  "language_info": {
   "codemirror_mode": {
    "name": "ipython",
    "version": 3
   },
   "file_extension": ".py",
   "mimetype": "text/x-python",
   "name": "python",
   "nbconvert_exporter": "python",
   "pygments_lexer": "ipython3",
   "version": "3.8.5"
  }
 },
 "nbformat": 4,
 "nbformat_minor": 4
}
